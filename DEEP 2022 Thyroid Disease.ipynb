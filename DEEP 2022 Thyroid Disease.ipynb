{
 "cells": [
  {
   "cell_type": "code",
   "execution_count": 3,
   "id": "4dd1de61",
   "metadata": {},
   "outputs": [],
   "source": [
    "import pandas as pd\n",
    "import numpy as np\n",
    "import matplotlib.pyplot as plt"
   ]
  },
  {
   "cell_type": "code",
   "execution_count": 108,
   "id": "eb509e2b",
   "metadata": {},
   "outputs": [],
   "source": [
    "# Import dataset\n",
    "df = pd.read_csv(\"C:\\\\Users\\\\melod\\\\DEEP 2022\\\\thyroid.csv\")"
   ]
  },
  {
   "cell_type": "code",
   "execution_count": 109,
   "id": "012d7ed3",
   "metadata": {},
   "outputs": [
    {
     "data": {
      "text/html": [
       "<div>\n",
       "<style scoped>\n",
       "    .dataframe tbody tr th:only-of-type {\n",
       "        vertical-align: middle;\n",
       "    }\n",
       "\n",
       "    .dataframe tbody tr th {\n",
       "        vertical-align: top;\n",
       "    }\n",
       "\n",
       "    .dataframe thead th {\n",
       "        text-align: right;\n",
       "    }\n",
       "</style>\n",
       "<table border=\"1\" class=\"dataframe\">\n",
       "  <thead>\n",
       "    <tr style=\"text-align: right;\">\n",
       "      <th></th>\n",
       "      <th>age</th>\n",
       "      <th>sex</th>\n",
       "      <th>on_thyroxine</th>\n",
       "      <th>query_on_thyroxine</th>\n",
       "      <th>on_antithyroid_meds</th>\n",
       "      <th>sick</th>\n",
       "      <th>pregnant</th>\n",
       "      <th>thyroid_surgery</th>\n",
       "      <th>I131_treatment</th>\n",
       "      <th>query_hypothyroid</th>\n",
       "      <th>...</th>\n",
       "      <th>TT4</th>\n",
       "      <th>T4U_measured</th>\n",
       "      <th>T4U</th>\n",
       "      <th>FTI_measured</th>\n",
       "      <th>FTI</th>\n",
       "      <th>TBG_measured</th>\n",
       "      <th>TBG</th>\n",
       "      <th>referral_source</th>\n",
       "      <th>target</th>\n",
       "      <th>patient_id</th>\n",
       "    </tr>\n",
       "  </thead>\n",
       "  <tbody>\n",
       "    <tr>\n",
       "      <th>0</th>\n",
       "      <td>29</td>\n",
       "      <td>F</td>\n",
       "      <td>f</td>\n",
       "      <td>f</td>\n",
       "      <td>f</td>\n",
       "      <td>f</td>\n",
       "      <td>f</td>\n",
       "      <td>f</td>\n",
       "      <td>f</td>\n",
       "      <td>t</td>\n",
       "      <td>...</td>\n",
       "      <td>NaN</td>\n",
       "      <td>f</td>\n",
       "      <td>NaN</td>\n",
       "      <td>f</td>\n",
       "      <td>NaN</td>\n",
       "      <td>f</td>\n",
       "      <td>NaN</td>\n",
       "      <td>other</td>\n",
       "      <td>-</td>\n",
       "      <td>840801013</td>\n",
       "    </tr>\n",
       "    <tr>\n",
       "      <th>1</th>\n",
       "      <td>29</td>\n",
       "      <td>F</td>\n",
       "      <td>f</td>\n",
       "      <td>f</td>\n",
       "      <td>f</td>\n",
       "      <td>f</td>\n",
       "      <td>f</td>\n",
       "      <td>f</td>\n",
       "      <td>f</td>\n",
       "      <td>f</td>\n",
       "      <td>...</td>\n",
       "      <td>128.0</td>\n",
       "      <td>f</td>\n",
       "      <td>NaN</td>\n",
       "      <td>f</td>\n",
       "      <td>NaN</td>\n",
       "      <td>f</td>\n",
       "      <td>NaN</td>\n",
       "      <td>other</td>\n",
       "      <td>-</td>\n",
       "      <td>840801014</td>\n",
       "    </tr>\n",
       "    <tr>\n",
       "      <th>2</th>\n",
       "      <td>41</td>\n",
       "      <td>F</td>\n",
       "      <td>f</td>\n",
       "      <td>f</td>\n",
       "      <td>f</td>\n",
       "      <td>f</td>\n",
       "      <td>f</td>\n",
       "      <td>f</td>\n",
       "      <td>f</td>\n",
       "      <td>f</td>\n",
       "      <td>...</td>\n",
       "      <td>NaN</td>\n",
       "      <td>f</td>\n",
       "      <td>NaN</td>\n",
       "      <td>f</td>\n",
       "      <td>NaN</td>\n",
       "      <td>t</td>\n",
       "      <td>11.0</td>\n",
       "      <td>other</td>\n",
       "      <td>-</td>\n",
       "      <td>840801042</td>\n",
       "    </tr>\n",
       "    <tr>\n",
       "      <th>3</th>\n",
       "      <td>36</td>\n",
       "      <td>F</td>\n",
       "      <td>f</td>\n",
       "      <td>f</td>\n",
       "      <td>f</td>\n",
       "      <td>f</td>\n",
       "      <td>f</td>\n",
       "      <td>f</td>\n",
       "      <td>f</td>\n",
       "      <td>f</td>\n",
       "      <td>...</td>\n",
       "      <td>NaN</td>\n",
       "      <td>f</td>\n",
       "      <td>NaN</td>\n",
       "      <td>f</td>\n",
       "      <td>NaN</td>\n",
       "      <td>t</td>\n",
       "      <td>26.0</td>\n",
       "      <td>other</td>\n",
       "      <td>-</td>\n",
       "      <td>840803046</td>\n",
       "    </tr>\n",
       "    <tr>\n",
       "      <th>4</th>\n",
       "      <td>32</td>\n",
       "      <td>F</td>\n",
       "      <td>f</td>\n",
       "      <td>f</td>\n",
       "      <td>f</td>\n",
       "      <td>f</td>\n",
       "      <td>f</td>\n",
       "      <td>f</td>\n",
       "      <td>f</td>\n",
       "      <td>f</td>\n",
       "      <td>...</td>\n",
       "      <td>NaN</td>\n",
       "      <td>f</td>\n",
       "      <td>NaN</td>\n",
       "      <td>f</td>\n",
       "      <td>NaN</td>\n",
       "      <td>t</td>\n",
       "      <td>36.0</td>\n",
       "      <td>other</td>\n",
       "      <td>S</td>\n",
       "      <td>840803047</td>\n",
       "    </tr>\n",
       "  </tbody>\n",
       "</table>\n",
       "<p>5 rows × 31 columns</p>\n",
       "</div>"
      ],
      "text/plain": [
       "   age sex on_thyroxine query_on_thyroxine on_antithyroid_meds sick pregnant  \\\n",
       "0   29   F            f                  f                   f    f        f   \n",
       "1   29   F            f                  f                   f    f        f   \n",
       "2   41   F            f                  f                   f    f        f   \n",
       "3   36   F            f                  f                   f    f        f   \n",
       "4   32   F            f                  f                   f    f        f   \n",
       "\n",
       "  thyroid_surgery I131_treatment query_hypothyroid  ...    TT4 T4U_measured  \\\n",
       "0               f              f                 t  ...    NaN            f   \n",
       "1               f              f                 f  ...  128.0            f   \n",
       "2               f              f                 f  ...    NaN            f   \n",
       "3               f              f                 f  ...    NaN            f   \n",
       "4               f              f                 f  ...    NaN            f   \n",
       "\n",
       "  T4U FTI_measured FTI TBG_measured   TBG  referral_source target  patient_id  \n",
       "0 NaN            f NaN            f   NaN            other      -   840801013  \n",
       "1 NaN            f NaN            f   NaN            other      -   840801014  \n",
       "2 NaN            f NaN            t  11.0            other      -   840801042  \n",
       "3 NaN            f NaN            t  26.0            other      -   840803046  \n",
       "4 NaN            f NaN            t  36.0            other      S   840803047  \n",
       "\n",
       "[5 rows x 31 columns]"
      ]
     },
     "execution_count": 109,
     "metadata": {},
     "output_type": "execute_result"
    }
   ],
   "source": [
    "# Look at first five rows\n",
    "df.head()"
   ]
  },
  {
   "cell_type": "code",
   "execution_count": 110,
   "id": "ef953951",
   "metadata": {},
   "outputs": [
    {
     "data": {
      "text/plain": [
       "(9008, 31)"
      ]
     },
     "execution_count": 110,
     "metadata": {},
     "output_type": "execute_result"
    }
   ],
   "source": [
    "# Number of data points\n",
    "df.shape"
   ]
  },
  {
   "cell_type": "code",
   "execution_count": 111,
   "id": "3321f0b2",
   "metadata": {},
   "outputs": [
    {
     "data": {
      "text/plain": [
       "age                      int64\n",
       "sex                     object\n",
       "on_thyroxine            object\n",
       "query_on_thyroxine      object\n",
       "on_antithyroid_meds     object\n",
       "sick                    object\n",
       "pregnant                object\n",
       "thyroid_surgery         object\n",
       "I131_treatment          object\n",
       "query_hypothyroid       object\n",
       "query_hyperthyroid      object\n",
       "lithium                 object\n",
       "goitre                  object\n",
       "tumor                   object\n",
       "hypopituitary           object\n",
       "psych                   object\n",
       "TSH_measured            object\n",
       "TSH                    float64\n",
       "T3_measured             object\n",
       "T3                     float64\n",
       "TT4_measured            object\n",
       "TT4                    float64\n",
       "T4U_measured            object\n",
       "T4U                    float64\n",
       "FTI_measured            object\n",
       "FTI                    float64\n",
       "TBG_measured            object\n",
       "TBG                    float64\n",
       "referral_source         object\n",
       "target                  object\n",
       "patient_id               int64\n",
       "dtype: object"
      ]
     },
     "execution_count": 111,
     "metadata": {},
     "output_type": "execute_result"
    }
   ],
   "source": [
    "df.dtypes"
   ]
  },
  {
   "cell_type": "markdown",
   "id": "95f2a485",
   "metadata": {},
   "source": [
    "# Cleaning Data"
   ]
  },
  {
   "cell_type": "code",
   "execution_count": 112,
   "id": "fd622756",
   "metadata": {},
   "outputs": [],
   "source": [
    "# drop columns with insignificant variables\n",
    "df.drop(labels = [\"query_on_thyroxine\",\"psych\", \"TSH_measured\", \"T3_measured\", \"TT4_measured\", \"T4U_measured\",\n",
    "                 \"FTI_measured\", \"TBG_measured\", \"referral_source\"], axis = 1, inplace = True)"
   ]
  },
  {
   "cell_type": "code",
   "execution_count": 113,
   "id": "0fabd1b7",
   "metadata": {},
   "outputs": [
    {
     "data": {
      "text/plain": [
       "age                       0\n",
       "sex                     302\n",
       "on_thyroxine              0\n",
       "on_antithyroid_meds       0\n",
       "sick                      0\n",
       "pregnant                  0\n",
       "thyroid_surgery           0\n",
       "I131_treatment            0\n",
       "query_hypothyroid         0\n",
       "query_hyperthyroid        0\n",
       "lithium                   0\n",
       "goitre                    0\n",
       "tumor                     0\n",
       "hypopituitary             0\n",
       "TSH                     839\n",
       "T3                     2603\n",
       "TT4                     442\n",
       "T4U                     804\n",
       "FTI                     797\n",
       "TBG                    8659\n",
       "target                    0\n",
       "patient_id                0\n",
       "dtype: int64"
      ]
     },
     "execution_count": 113,
     "metadata": {},
     "output_type": "execute_result"
    }
   ],
   "source": [
    "# Number of missing values in each column\n",
    "df.isna().sum()"
   ]
  },
  {
   "cell_type": "code",
   "execution_count": 114,
   "id": "61b2988e",
   "metadata": {},
   "outputs": [],
   "source": [
    "df = df.dropna(subset=['sex']) # remove all rows in dataset where sex is missing"
   ]
  },
  {
   "cell_type": "code",
   "execution_count": 115,
   "id": "ac146561",
   "metadata": {},
   "outputs": [],
   "source": [
    "# Impute quantitative variables\n",
    "df['TSH']=df['TSH'].fillna(df['TSH'].mean())"
   ]
  },
  {
   "cell_type": "code",
   "execution_count": 116,
   "id": "158e66f3",
   "metadata": {},
   "outputs": [],
   "source": [
    "df['T3']=df['T3'].fillna(df['T3'].mean())"
   ]
  },
  {
   "cell_type": "code",
   "execution_count": 117,
   "id": "69f9bffd",
   "metadata": {},
   "outputs": [],
   "source": [
    "df['T4U']=df['T4U'].fillna(df['T4U'].mean())"
   ]
  },
  {
   "cell_type": "code",
   "execution_count": 118,
   "id": "80d1b3a3",
   "metadata": {},
   "outputs": [],
   "source": [
    "df['FTI']=df['FTI'].fillna(df['FTI'].mean())"
   ]
  },
  {
   "cell_type": "code",
   "execution_count": 119,
   "id": "c9b46d73",
   "metadata": {},
   "outputs": [],
   "source": [
    "df['TBG']=df['TBG'].fillna(df['TBG'].mean())"
   ]
  },
  {
   "cell_type": "code",
   "execution_count": 120,
   "id": "860665cd",
   "metadata": {},
   "outputs": [],
   "source": [
    "df['TT4']=df['TT4'].fillna(df['TT4'].mean())"
   ]
  },
  {
   "cell_type": "code",
   "execution_count": 121,
   "id": "eb887e77",
   "metadata": {},
   "outputs": [
    {
     "data": {
      "text/plain": [
       "age                    0\n",
       "sex                    0\n",
       "on_thyroxine           0\n",
       "on_antithyroid_meds    0\n",
       "sick                   0\n",
       "pregnant               0\n",
       "thyroid_surgery        0\n",
       "I131_treatment         0\n",
       "query_hypothyroid      0\n",
       "query_hyperthyroid     0\n",
       "lithium                0\n",
       "goitre                 0\n",
       "tumor                  0\n",
       "hypopituitary          0\n",
       "TSH                    0\n",
       "T3                     0\n",
       "TT4                    0\n",
       "T4U                    0\n",
       "FTI                    0\n",
       "TBG                    0\n",
       "target                 0\n",
       "patient_id             0\n",
       "dtype: int64"
      ]
     },
     "execution_count": 121,
     "metadata": {},
     "output_type": "execute_result"
    }
   ],
   "source": [
    "df.isna().sum()"
   ]
  },
  {
   "cell_type": "code",
   "execution_count": 122,
   "id": "f6a31355",
   "metadata": {},
   "outputs": [],
   "source": [
    "# function for mapping strings to integers\n",
    "def booltoint(dictionary, col):\n",
    "    df[col] = df[col].map(dictionary)"
   ]
  },
  {
   "cell_type": "code",
   "execution_count": 123,
   "id": "08e665ca",
   "metadata": {},
   "outputs": [],
   "source": [
    "d = {'t' : 1, 'f': 0}\n",
    "booltypes = [\"on_thyroxine\", \"on_antithyroid_meds\", \"sick\", \"pregnant\", \"thyroid_surgery\",\n",
    "             \"I131_treatment\", \"query_hypothyroid\", \"query_hyperthyroid\", \"lithium\", \"goitre\", \"tumor\", \"hypopituitary\"]\n",
    "\n",
    "for column in booltypes:\n",
    "    booltoint(d, column)"
   ]
  },
  {
   "cell_type": "code",
   "execution_count": 124,
   "id": "2ef7e15f",
   "metadata": {},
   "outputs": [],
   "source": [
    "## Remove age > 100\n",
    "df = df[(df[\"age\"] < 100)]"
   ]
  },
  {
   "cell_type": "code",
   "execution_count": 125,
   "id": "946d2846",
   "metadata": {},
   "outputs": [],
   "source": [
    "target_encoded={j:i for i,j in enumerate(df['target'].unique())}\n",
    "target=[target_encoded[i] for i in df['target'].values]\n",
    "target=np.array(target).reshape(-1,1)"
   ]
  },
  {
   "cell_type": "code",
   "execution_count": 126,
   "id": "95e9b769",
   "metadata": {},
   "outputs": [
    {
     "data": {
      "text/plain": [
       "age                      int64\n",
       "sex                     object\n",
       "on_thyroxine             int64\n",
       "on_antithyroid_meds      int64\n",
       "sick                     int64\n",
       "pregnant                 int64\n",
       "thyroid_surgery          int64\n",
       "I131_treatment           int64\n",
       "query_hypothyroid        int64\n",
       "query_hyperthyroid       int64\n",
       "lithium                  int64\n",
       "goitre                   int64\n",
       "tumor                    int64\n",
       "hypopituitary            int64\n",
       "TSH                    float64\n",
       "T3                     float64\n",
       "TT4                    float64\n",
       "T4U                    float64\n",
       "FTI                    float64\n",
       "TBG                    float64\n",
       "target                  object\n",
       "patient_id               int64\n",
       "dtype: object"
      ]
     },
     "execution_count": 126,
     "metadata": {},
     "output_type": "execute_result"
    }
   ],
   "source": [
    "df.dtypes"
   ]
  },
  {
   "cell_type": "markdown",
   "id": "db1d25d2",
   "metadata": {},
   "source": [
    "# Visualizations"
   ]
  },
  {
   "cell_type": "code",
   "execution_count": 39,
   "id": "f9ca4150",
   "metadata": {},
   "outputs": [
    {
     "data": {
      "text/plain": [
       "Text(0.5, 1.0, 'Distribution of Patient Age')"
      ]
     },
     "execution_count": 39,
     "metadata": {},
     "output_type": "execute_result"
    },
    {
     "data": {
      "image/png": "[encoded data removed]",
      "text/plain": [
       "<Figure size 640x480 with 1 Axes>"
      ]
     },
     "metadata": {},
     "output_type": "display_data"
    }
   ],
   "source": [
    "## Distribution of age\n",
    "df[\"age\"].hist(bins = 5)\n",
    "plt.xlabel(\"Age\")\n",
    "plt.ylabel(\"Frequency\")\n",
    "plt.title(\"Distribution of Patient Age\")"
   ]
  },
  {
   "cell_type": "code",
   "execution_count": 40,
   "id": "9729e53a",
   "metadata": {},
   "outputs": [],
   "source": [
    "## Sex\n",
    "sex_df = df[\"sex\"].value_counts().to_frame().reset_index()\n",
    "sex_df.columns = [\"sex\",\"Frequency\"]\n",
    "total = sum(sex_df[\"Frequency\"])\n",
    "sex_df[\"Proportion\"] = (sex_df[\"Frequency\"]/total)*100"
   ]
  },
  {
   "cell_type": "code",
   "execution_count": 47,
   "id": "b66b2d9f",
   "metadata": {},
   "outputs": [
    {
     "data": {
      "text/plain": [
       "Text(0.5, 1.0, 'Proportion of Sex in Patients')"
      ]
     },
     "execution_count": 47,
     "metadata": {},
     "output_type": "execute_result"
    },
    {
     "data": {
      "image/png": "[encoded data removed]",
      "text/plain": [
       "<Figure size 640x480 with 1 Axes>"
      ]
     },
     "metadata": {},
     "output_type": "display_data"
    }
   ],
   "source": [
    "plt.bar(sex_df[\"sex\"],sex_df[\"Proportion\"],color=\"lightblue\")\n",
    "plt.xlabel(\"Sex\")\n",
    "plt.ylabel(\"Percentage (%)\")\n",
    "plt.title(\"Proportion of Sex in Patients\")"
   ]
  },
  {
   "cell_type": "code",
   "execution_count": 52,
   "id": "b5a0f1fc",
   "metadata": {},
   "outputs": [
    {
     "data": {
      "text/plain": [
       "Text(0.5, 1.0, 'T3 vs. TT4 level in blood')"
      ]
     },
     "execution_count": 52,
     "metadata": {},
     "output_type": "execute_result"
    },
    {
     "data": {
      "image/png": "[encoded data removed]",
      "text/plain": [
       "<Figure size 640x480 with 1 Axes>"
      ]
     },
     "metadata": {},
     "output_type": "display_data"
    }
   ],
   "source": [
    "plt.scatter(\"T3\",\"TT4\",data = df)\n",
    "plt.xlabel(\"T3 Level\")\n",
    "plt.ylabel(\"TT4 Level\")\n",
    "plt.title(\"T3 vs. TT4 level in blood\")"
   ]
  },
  {
   "cell_type": "code",
   "execution_count": 41,
   "id": "ef6edc6c",
   "metadata": {},
   "outputs": [
    {
     "data": {
      "text/plain": [
       "Text(0.5, 1.0, 'T3 vs. T4U level in blood')"
      ]
     },
     "execution_count": 41,
     "metadata": {},
     "output_type": "execute_result"
    },
    {
     "data": {
      "image/png": "[encoded data removed]",
      "text/plain": [
       "<Figure size 640x480 with 1 Axes>"
      ]
     },
     "metadata": {},
     "output_type": "display_data"
    }
   ],
   "source": [
    "plt.scatter(\"T3\",\"T4U\",data = df)\n",
    "plt.xlabel(\"T3 Level\")\n",
    "plt.ylabel(\"T4U Level\")\n",
    "plt.title(\"T3 vs. T4U level in blood\")"
   ]
  },
  {
   "cell_type": "code",
   "execution_count": 42,
   "id": "dec785de",
   "metadata": {},
   "outputs": [],
   "source": [
    "import seaborn as sns"
   ]
  },
  {
   "cell_type": "code",
   "execution_count": 127,
   "id": "22a69d1f",
   "metadata": {},
   "outputs": [],
   "source": [
    "sub = df[['TSH', 'T3', 'TT4', 'T4U', 'FTI', 'TBG']]"
   ]
  },
  {
   "cell_type": "code",
   "execution_count": 128,
   "id": "25a4eb8d",
   "metadata": {},
   "outputs": [
    {
     "data": {
      "text/plain": [
       "<AxesSubplot:>"
      ]
     },
     "execution_count": 128,
     "metadata": {},
     "output_type": "execute_result"
    },
    {
     "data": {
      "image/png": "[encoded data removed]",
      "text/plain": [
       "<Figure size 640x480 with 2 Axes>"
      ]
     },
     "metadata": {},
     "output_type": "display_data"
    }
   ],
   "source": [
    "sns.heatmap(sub.corr()) # correlation heatmap"
   ]
  },
  {
   "cell_type": "markdown",
   "id": "f15c945d",
   "metadata": {},
   "source": [
    "# CLASSIFICATION"
   ]
  },
  {
   "cell_type": "code",
   "execution_count": 129,
   "id": "9df13848",
   "metadata": {},
   "outputs": [],
   "source": [
    "from sklearn.model_selection import train_test_split\n",
    "from sklearn.preprocessing import StandardScaler\n",
    "from sklearn.tree import DecisionTreeClassifier\n",
    "from sklearn.ensemble import RandomForestClassifier\n",
    "from sklearn.metrics import accuracy_score, classification_report, confusion_matrix"
   ]
  },
  {
   "cell_type": "code",
   "execution_count": 132,
   "id": "0cbda4fe",
   "metadata": {},
   "outputs": [],
   "source": [
    "x = df[['age', 'lithium','goitre', 'tumor', 'hypopituitary', 'TSH','T3','TT4', 'T4U','FTI',  'TBG']] \n",
    "x = x.values"
   ]
  },
  {
   "cell_type": "code",
   "execution_count": 133,
   "id": "abb8ba8d",
   "metadata": {},
   "outputs": [],
   "source": [
    "x=StandardScaler().fit_transform(x)"
   ]
  },
  {
   "cell_type": "code",
   "execution_count": 135,
   "id": "76ddafd5",
   "metadata": {},
   "outputs": [],
   "source": [
    "x_train, x_test, y_train, y_test = model_selection.train_test_split(x, target, test_size = 0.2)"
   ]
  },
  {
   "cell_type": "code",
   "execution_count": 136,
   "id": "1a7d6ed0",
   "metadata": {},
   "outputs": [
    {
     "name": "stderr",
     "output_type": "stream",
     "text": [
      "C:\\Users\\melod\\AppData\\Local\\Temp\\ipykernel_4804\\3328901907.py:1: DataConversionWarning: A column-vector y was passed when a 1d array was expected. Please change the shape of y to (n_samples,), for example using ravel().\n",
      "  rct=RandomForestClassifier(max_depth=31,n_estimators=5000).fit(x_train,y_train)\n"
     ]
    }
   ],
   "source": [
    "rct=RandomForestClassifier(max_depth=31,n_estimators=5000).fit(x_train,y_train)"
   ]
  },
  {
   "cell_type": "code",
   "execution_count": 137,
   "id": "9ad9b3d1",
   "metadata": {},
   "outputs": [],
   "source": [
    "pred=rct.predict(x_test)"
   ]
  },
  {
   "cell_type": "code",
   "execution_count": 138,
   "id": "b7cd8f65",
   "metadata": {},
   "outputs": [
    {
     "name": "stdout",
     "output_type": "stream",
     "text": [
      "              precision    recall  f1-score   support\n",
      "\n",
      "           0       0.97      0.97      0.97      1311\n",
      "           1       0.93      1.00      0.97        14\n",
      "           2       0.98      0.96      0.97        46\n",
      "           3       0.62      0.48      0.55        31\n",
      "           4       0.81      0.82      0.82        73\n",
      "           5       0.30      0.16      0.21        19\n",
      "           6       0.60      0.65      0.63        23\n",
      "           7       0.74      0.88      0.80        64\n",
      "           8       0.81      0.92      0.86        91\n",
      "           9       0.50      0.86      0.63        22\n",
      "          10       0.59      0.41      0.48        32\n",
      "          11       0.00      0.00      0.00         2\n",
      "          12       0.67      0.67      0.67         3\n",
      "          13       0.00      0.00      0.00         2\n",
      "          15       0.00      0.00      0.00         4\n",
      "          16       0.00      0.00      0.00         3\n",
      "          18       0.00      0.00      0.00         1\n",
      "\n",
      "    accuracy                           0.91      1741\n",
      "   macro avg       0.50      0.52      0.50      1741\n",
      "weighted avg       0.91      0.91      0.91      1741\n",
      "\n"
     ]
    },
    {
     "name": "stderr",
     "output_type": "stream",
     "text": [
      "C:\\Users\\melod\\anaconda3\\lib\\site-packages\\sklearn\\metrics\\_classification.py:1318: UndefinedMetricWarning: Precision and F-score are ill-defined and being set to 0.0 in labels with no predicted samples. Use `zero_division` parameter to control this behavior.\n",
      "  _warn_prf(average, modifier, msg_start, len(result))\n",
      "C:\\Users\\melod\\anaconda3\\lib\\site-packages\\sklearn\\metrics\\_classification.py:1318: UndefinedMetricWarning: Precision and F-score are ill-defined and being set to 0.0 in labels with no predicted samples. Use `zero_division` parameter to control this behavior.\n",
      "  _warn_prf(average, modifier, msg_start, len(result))\n",
      "C:\\Users\\melod\\anaconda3\\lib\\site-packages\\sklearn\\metrics\\_classification.py:1318: UndefinedMetricWarning: Precision and F-score are ill-defined and being set to 0.0 in labels with no predicted samples. Use `zero_division` parameter to control this behavior.\n",
      "  _warn_prf(average, modifier, msg_start, len(result))\n"
     ]
    }
   ],
   "source": [
    "report=classification_report(y_test.reshape(-1,),pred)\n",
    "print(report)"
   ]
  }
 ],
 "metadata": {
  "kernelspec": {
   "display_name": "Python 3 (ipykernel)",
   "language": "python",
   "name": "python3"
  },
  "language_info": {
   "codemirror_mode": {
    "name": "ipython",
    "version": 3
   },
   "file_extension": ".py",
   "mimetype": "text/x-python",
   "name": "python",
   "nbconvert_exporter": "python",
   "pygments_lexer": "ipython3",
   "version": "3.9.13"
  }
 },
 "nbformat": 4,
 "nbformat_minor": 5
}
